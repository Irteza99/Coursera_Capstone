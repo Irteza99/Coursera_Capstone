{
    "nbformat_minor": 1, 
    "cells": [
        {
            "source": "#Introduction", 
            "cell_type": "markdown", 
            "metadata": {
                "collapsed": true
            }
        }, 
        {
            "source": "##In this report I will analyze distribution of pizza stores in the principal neighborhoods of Buenos Aires, and determine where the density is higher, where are located the best rated ones, and conclude the analysis with guidelines for future investors about the most appropiate locations to open a pizza store, and foresee the profiles of each neighborhood. That means locating the spots in each those neighborhoods, where there is a lack of stores, but there exist an habit of high consumption.", 
            "cell_type": "markdown", 
            "metadata": {}
        }, 
        {
            "source": "#Data", 
            "cell_type": "markdown", 
            "metadata": {}
        }, 
        {
            "source": "##The data that will be used for this project will be Foursquare location data, and a geojson file of the neighborhoods of Buenos Aires, to create a Cloropleth map.\nWith the Foursquare data, I'll retrieve the stores, the location of them, and the rating. From the geojson file I'll get the neighborhood borders to visualize the results analysis from a cloropleth map perspective, when comparing the neighborhoods. \nFrom https://data.buenosaires.gob.ar/ I will retrieve each neighborhood's name, the economical districts, and specifically from https://data.buenosaires.gob.ar/dataset/mapa-de-oportunidades-comerciales-moc I will get demographic information of each neighborhood, average age, and \n\n", 
            "cell_type": "markdown", 
            "metadata": {}
        }, 
        {
            "execution_count": null, 
            "cell_type": "code", 
            "metadata": {}, 
            "outputs": [], 
            "source": ""
        }
    ], 
    "metadata": {
        "kernelspec": {
            "display_name": "Python 3.5", 
            "name": "python3", 
            "language": "python"
        }, 
        "language_info": {
            "mimetype": "text/x-python", 
            "nbconvert_exporter": "python", 
            "version": "3.5.5", 
            "name": "python", 
            "file_extension": ".py", 
            "pygments_lexer": "ipython3", 
            "codemirror_mode": {
                "version": 3, 
                "name": "ipython"
            }
        }
    }, 
    "nbformat": 4
}